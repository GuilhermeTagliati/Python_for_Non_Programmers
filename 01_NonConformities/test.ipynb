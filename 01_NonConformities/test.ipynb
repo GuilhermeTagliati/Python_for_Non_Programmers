{
 "cells": [
  {
   "cell_type": "code",
   "execution_count": 17,
   "metadata": {},
   "outputs": [],
   "source": [
    "import pandas\n",
    "df_current = pandas.read_csv(\"./data/data.csv\", )"
   ]
  },
  {
   "cell_type": "code",
   "execution_count": 18,
   "metadata": {},
   "outputs": [
    {
     "data": {
      "text/html": [
       "<div>\n",
       "<style scoped>\n",
       "    .dataframe tbody tr th:only-of-type {\n",
       "        vertical-align: middle;\n",
       "    }\n",
       "\n",
       "    .dataframe tbody tr th {\n",
       "        vertical-align: top;\n",
       "    }\n",
       "\n",
       "    .dataframe thead th {\n",
       "        text-align: right;\n",
       "    }\n",
       "</style>\n",
       "<table border=\"1\" class=\"dataframe\">\n",
       "  <thead>\n",
       "    <tr style=\"text-align: right;\">\n",
       "      <th></th>\n",
       "      <th>id</th>\n",
       "      <th>description</th>\n",
       "      <th>rootcause</th>\n",
       "      <th>solution</th>\n",
       "      <th>critical</th>\n",
       "    </tr>\n",
       "  </thead>\n",
       "  <tbody>\n",
       "    <tr>\n",
       "      <th>0</th>\n",
       "      <td>Dark</td>\n",
       "      <td>Escreva aqui a descricao da nao conformidade</td>\n",
       "      <td>Escreva aqui a sua analise de causa raiz</td>\n",
       "      <td>Escreva aqui as acoes tomadas para solucionar ...</td>\n",
       "      <td>0</td>\n",
       "    </tr>\n",
       "    <tr>\n",
       "      <th>1</th>\n",
       "      <td>Light</td>\n",
       "      <td>Escreva aqui a descricao da nao conformidade</td>\n",
       "      <td>Escreva aqui a sua analise de causa raiz</td>\n",
       "      <td>Escreva aqui as acoes tomadas para solucionar ...</td>\n",
       "      <td>0</td>\n",
       "    </tr>\n",
       "    <tr>\n",
       "      <th>2</th>\n",
       "      <td>Dark</td>\n",
       "      <td>Escreva aqui a descricao da nao conformidade</td>\n",
       "      <td>Escreva aqui a sua analise de causa raiz</td>\n",
       "      <td>Escreva aqui as acoes tomadas para solucionar ...</td>\n",
       "      <td>0</td>\n",
       "    </tr>\n",
       "  </tbody>\n",
       "</table>\n",
       "</div>"
      ],
      "text/plain": [
       "      id                                   description  \\\n",
       "0   Dark  Escreva aqui a descricao da nao conformidade   \n",
       "1  Light  Escreva aqui a descricao da nao conformidade   \n",
       "2   Dark  Escreva aqui a descricao da nao conformidade   \n",
       "\n",
       "                                  rootcause  \\\n",
       "0  Escreva aqui a sua analise de causa raiz   \n",
       "1  Escreva aqui a sua analise de causa raiz   \n",
       "2  Escreva aqui a sua analise de causa raiz   \n",
       "\n",
       "                                            solution  critical  \n",
       "0  Escreva aqui as acoes tomadas para solucionar ...         0  \n",
       "1  Escreva aqui as acoes tomadas para solucionar ...         0  \n",
       "2  Escreva aqui as acoes tomadas para solucionar ...         0  "
      ]
     },
     "execution_count": 18,
     "metadata": {},
     "output_type": "execute_result"
    }
   ],
   "source": [
    "df_current"
   ]
  }
 ],
 "metadata": {
  "kernelspec": {
   "display_name": "Python 3.10.6 ('project01-env')",
   "language": "python",
   "name": "python3"
  },
  "language_info": {
   "codemirror_mode": {
    "name": "ipython",
    "version": 3
   },
   "file_extension": ".py",
   "mimetype": "text/x-python",
   "name": "python",
   "nbconvert_exporter": "python",
   "pygments_lexer": "ipython3",
   "version": "3.10.6"
  },
  "orig_nbformat": 4,
  "vscode": {
   "interpreter": {
    "hash": "38a3629e5d87ea33411141a27c8f3a2f089bd2c082b79306b5fd4024160678a9"
   }
  }
 },
 "nbformat": 4,
 "nbformat_minor": 2
}
